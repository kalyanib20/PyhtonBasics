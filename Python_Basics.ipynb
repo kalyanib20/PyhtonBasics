{
  "nbformat": 4,
  "nbformat_minor": 0,
  "metadata": {
    "colab": {
      "provenance": []
    },
    "kernelspec": {
      "name": "python3",
      "display_name": "Python 3"
    },
    "language_info": {
      "name": "python"
    }
  },
  "cells": [
    {
      "cell_type": "code",
      "execution_count": null,
      "metadata": {
        "id": "e8rWYeM3-b5z"
      },
      "outputs": [],
      "source": []
    },
    {
      "cell_type": "markdown",
      "source": [
        "1. What is Python, and why is it popular?\n",
        "- Python is a high-level, interpreted programming language known for its simplicity and readability. It was created by Guido van Rossum and first released in 1991.\n",
        "- Why python is popular:\n",
        "- Easy to learn and use\n",
        "- versatile and powerful\n",
        "- large community support\n",
        "2.  What is an interpreter in Python?\n",
        "- An interpreter in Python is a program that reads and executes Python code line by line, instead of compiling the entire program at once like in some other languages (e.g., C++ or Java).\n",
        "3. What are pre-defined keywords in Python?\n",
        "- Words that hold a special meaning and have special purpose are pre-defined keywords.\n",
        "- eg:-class, true, false, if, else etc.\n",
        "4. Can keywords be used as variable names?\n",
        "- No, keywords cannot be used as variable names in python.\n",
        "5. What is mutability in Python?\n",
        "- Mutalbility refers to changable objects. Objects whose state or value can be changed after they are created are called mutable objects.\n",
        "-eg:- list is a mutable object.\n",
        "6.  Why are lists mutable, but tuples are immutable?\n",
        "- Lists are mutable because we can change it after they are created whereas in tuples we can't change it after they are created.\n",
        "7. What is the difference between “==” and “is” operators in Python?\n",
        "    \n",
        "  -> \"==\" is a Equality Operator\n",
        "   - Checks if the value of the two variables are equal.\n",
        "    \n",
        "  -> \"is\" is a Identity Operator\n",
        "  - Checks if two variable points to the same object in memory.\n",
        "8. What are logical operators in Python?\n",
        "- Logical operator like and, or, not\n",
        "- and\n",
        " -  Returns true if both conditions are true.\n",
        "- or\n",
        " - Return true if at least one condition is true.\n",
        "- not\n",
        " - Inverts the boolean value.\n",
        "9. What is type casting in Python?\n",
        "-  Type casting in Python refers to the process of converting one data type into another. Python provides built-in functions for type conversion, allowing developers to manipulate data as needed. There are two types of type casting:\n",
        "Implicit typecasting and Explicit type casting\n",
        "10. What is the difference between implicit and explicit type casting?\n",
        "- Implicit Type Casting – This happens automatically when Python converts a smaller data type into a larger one to prevent data loss.\n",
        "- Explicit Type Casting – This requires manually converting data types using built-in functions like int(), float(), str()\n",
        "11. What is the purpose of conditional statements in Python ?\n",
        "- Conditional statements in Python are used to make decisions in a program by executing different code blocks based on specified conditions. They allow a program to respond dynamically to different inputs or situations.\n",
        "12.  How does the elif statement work?\n",
        "- The elif statement in Python is used for multiple conditional checks. It stands for \"else if\" and allows you to test multiple conditions sequentially. If the first condition is False, Python moves to the next elif condition. If none of them are True, the else block executes.\n",
        "- How It Works\n",
        "1. Python checks the first if condition:\n",
        "\n",
        "- If True, the corresponding block executes, and the rest is skipped.\n",
        "\n",
        "2. If False, Python moves to the next elif condition:\n",
        "\n",
        "- If True, that block runs, and the remaining conditions are ignored.\n",
        "\n",
        "3. If no conditions are met, the else block executes.\n",
        "\n",
        "\n",
        "13. What is the difference between for and while loops?\n",
        "- For loop: A for loop is used when the number of iterations is known beforehand. It iterates over a sequence, such as a list, tuple, string, or range, executing a block of code for each element. The loop automatically stops when it reaches the end of the sequence.\n",
        "- While loop: A while loop is used when the number of iterations is uncertain and depends on a condition. The loop continues to execute as long as the given condition remains True. If the condition becomes False, the loop stops.\n",
        "14. Describe a scenario where a while loop is more suitable than a for loop.\n",
        "- A while loop is more suitable than a for loop when the number of iterations is not predetermined and depends on a dynamic condition.\n"
      ],
      "metadata": {
        "id": "Ckl6xgN3-c2h"
      }
    },
    {
      "cell_type": "code",
      "source": [
        "#Practical Questions\n",
        "# 1. Write a Python program to print \"Hello, World!\"\n",
        "print(\"Hello World\")"
      ],
      "metadata": {
        "colab": {
          "base_uri": "https://localhost:8080/"
        },
        "id": "FiJ5EyI_qQ7p",
        "outputId": "df446bd3-059e-4c9c-d701-e2662f949526"
      },
      "execution_count": null,
      "outputs": [
        {
          "output_type": "stream",
          "name": "stdout",
          "text": [
            "Hello World\n"
          ]
        }
      ]
    },
    {
      "cell_type": "code",
      "source": [
        "#2.Write a Python program that displays your name and age.\n",
        "name = \"Kalyani\"\n",
        "age = 20\n",
        "print(\"Name:\",name)\n",
        "print(\"Age:\",age)"
      ],
      "metadata": {
        "colab": {
          "base_uri": "https://localhost:8080/"
        },
        "id": "ENI4yWosJUAb",
        "outputId": "14b4e6fd-74d0-4027-952e-6319a7482892"
      },
      "execution_count": null,
      "outputs": [
        {
          "output_type": "stream",
          "name": "stdout",
          "text": [
            "Name: Kalyani\n",
            "Age: 20\n"
          ]
        }
      ]
    },
    {
      "cell_type": "code",
      "source": [
        "#3 Write code to print all the pre-defined keywords in Python using the keyword library\n",
        "help('keywords')\n"
      ],
      "metadata": {
        "colab": {
          "base_uri": "https://localhost:8080/"
        },
        "id": "udjgwyFQwrx0",
        "outputId": "b8dd5853-015d-421a-bec8-172aa2a56b53"
      },
      "execution_count": null,
      "outputs": [
        {
          "output_type": "stream",
          "name": "stdout",
          "text": [
            "\n",
            "Here is a list of the Python keywords.  Enter any keyword to get more help.\n",
            "\n",
            "False               class               from                or\n",
            "None                continue            global              pass\n",
            "True                def                 if                  raise\n",
            "and                 del                 import              return\n",
            "as                  elif                in                  try\n",
            "assert              else                is                  while\n",
            "async               except              lambda              with\n",
            "await               finally             nonlocal            yield\n",
            "break               for                 not                 \n",
            "\n"
          ]
        }
      ]
    },
    {
      "cell_type": "code",
      "source": [
        "#4 Write a program that checks if a given word is a Python keyword.\n",
        "import keyword\n",
        "\n",
        "word = input(\"Enter a word: \")\n",
        "\n",
        "if keyword.iskeyword(word):\n",
        "    print(f\"'{word}' is a Python keyword.\")\n",
        "else:\n",
        "    print(f\"'{word}' is NOT a Python keyword.\")"
      ],
      "metadata": {
        "colab": {
          "base_uri": "https://localhost:8080/"
        },
        "id": "UZ00YmQywroQ",
        "outputId": "d5386a67-19a7-48b3-f74a-bad32eafb48a"
      },
      "execution_count": null,
      "outputs": [
        {
          "output_type": "stream",
          "name": "stdout",
          "text": [
            "Enter a word: hello\n",
            "'hello' is NOT a Python keyword.\n"
          ]
        }
      ]
    },
    {
      "cell_type": "code",
      "source": [
        "#5  Create a list and tuple in Python, and demonstrate how attempting to change an element works differently for each\n",
        "# List (mutable)\n",
        "my_list = [1, 2, 3, 4]\n",
        "print(\"Original List:\", my_list)\n",
        "\n",
        "# Modifying an element in the list\n",
        "my_list[2] = 10\n",
        "print(\"Modified List:\", my_list)\n",
        "\n",
        "# Tuple (immutable)\n",
        "my_tuple = (1, 2, 3, 4)\n",
        "print(\"Original Tuple:\", my_tuple)\n",
        "\n",
        "# Attempting to modify an element in the tuple (this will cause an error)\n",
        "my_tuple[2] = 10\n",
        "#As list is mutable object and tuple is immutable object."
      ],
      "metadata": {
        "id": "AoHSvgGywix-"
      },
      "execution_count": null,
      "outputs": []
    },
    {
      "cell_type": "code",
      "source": [
        "#6  Write a function to demonstrate the behavior of mutable and immutable arguments.\n",
        "# List(Mutable object)\n",
        "my_list = [1, 2, 3]\n",
        "print(\"Original List:\", my_list)\n",
        "\n",
        "my_list.append(100)  # Adding an element\n",
        "print(\"Modified List:\", my_list)  # List is changed\n",
        "\n",
        "# Tuple(Immutable object)\n",
        "my_tuple = (1, 2, 3)\n",
        "print(\"Original Tuple:\", my_tuple)\n",
        "\n",
        "# Trying to modify a tuple (This will cause an error)\n",
        "my_tuple[1] = 100"
      ],
      "metadata": {
        "colab": {
          "base_uri": "https://localhost:8080/"
        },
        "id": "PqOSui0ozYx7",
        "outputId": "03acc693-bed1-42f4-81d6-8638a635f645"
      },
      "execution_count": null,
      "outputs": [
        {
          "output_type": "stream",
          "name": "stdout",
          "text": [
            "Original List: [1, 2, 3]\n",
            "Modified List: [1, 2, 3, 100]\n"
          ]
        }
      ]
    },
    {
      "cell_type": "code",
      "source": [
        "#7  Write a program that performs basic arithmetic operations on two user-input numbers.\n",
        "# Get user input\n",
        "num1 = float(input(\"Enter first number: \"))\n",
        "num2 = float(input(\"Enter second number: \"))\n",
        "\n",
        "# Perform and display operations\n",
        "print(\"\\nResults:\")\n",
        "print(\"Addition:\", num1 + num2)\n",
        "print(\"Subtraction:\", num1 - num2)\n",
        "print(\"Multiplication:\", num1 * num2)\n",
        "print(\"Division:\", num1 / num2 if num2 != 0 else \"Cannot divide by zero\")"
      ],
      "metadata": {
        "colab": {
          "base_uri": "https://localhost:8080/"
        },
        "id": "tCD2avCS0Xet",
        "outputId": "0f48c5e4-dce0-46fe-f630-cbc7fdbd4fac"
      },
      "execution_count": null,
      "outputs": [
        {
          "output_type": "stream",
          "name": "stdout",
          "text": [
            "Enter first number: 4\n",
            "Enter second number: 4\n",
            "\n",
            "Results:\n",
            "Addition: 8.0\n",
            "Subtraction: 0.0\n",
            "Multiplication: 16.0\n",
            "Division: 1.0\n"
          ]
        }
      ]
    },
    {
      "cell_type": "code",
      "source": [
        "# 8 Write a program to demonstrate the use of logical operators.\n",
        "# Define two boolean variables\n",
        "is_raining = True\n",
        "is_sunny = False\n",
        "\n",
        "# Use 'and'\n",
        "print(\"Is it raining AND sunny?\", is_raining and is_sunny)\n",
        "\n",
        "# Use 'or'\n",
        "print(\"Is it raining OR sunny?\", is_raining or is_sunny)\n",
        "\n",
        "# Use 'not'\n",
        "print(\"Is it NOT raining?\", not is_raining)"
      ],
      "metadata": {
        "id": "L5D4i1wV0pPP",
        "colab": {
          "base_uri": "https://localhost:8080/"
        },
        "outputId": "f0c2fda1-fd53-48f9-948a-e1eabb10d753"
      },
      "execution_count": 1,
      "outputs": [
        {
          "output_type": "stream",
          "name": "stdout",
          "text": [
            "Is it raining AND sunny? False\n",
            "Is it raining OR sunny? True\n",
            "Is it NOT raining? False\n"
          ]
        }
      ]
    },
    {
      "cell_type": "code",
      "source": [
        "# 9  Write a Python program to convert user input from string to integer, float, and boolean types.\n",
        "# Get user input\n",
        "user_input = input(\"Enter a value: \")\n",
        "\n",
        "# Convert and display types\n",
        "print(\"Integer:\", int(user_input))  # May raise an error if input isn't a number\n",
        "print(\"Float:\", float(user_input))  # May raise an error if input isn't a number\n",
        "print(\"Boolean:\", user_input.lower() in [\"true\", \"1\", \"yes\"])\n"
      ],
      "metadata": {
        "colab": {
          "base_uri": "https://localhost:8080/"
        },
        "id": "MEpE5dzRMkGx",
        "outputId": "378cbb56-bfa4-401f-da5c-d7015797d417"
      },
      "execution_count": 3,
      "outputs": [
        {
          "output_type": "stream",
          "name": "stdout",
          "text": [
            "Enter a value: 1\n",
            "Boolean: True\n"
          ]
        }
      ]
    },
    {
      "cell_type": "code",
      "source": [
        "# 10 Write code to demonstrate type casting with list elements\n",
        "# Define a list with mixed values as strings\n",
        "mixed_list = [\"10\", \"20.5\", \"True\"]\n",
        "\n",
        "# Convert and display types\n",
        "print(\"Integer:\", int(mixed_list[0]))   # Convert string to integer\n",
        "print(\"Float:\", float(mixed_list[1]))   # Convert string to float\n",
        "print(\"Boolean:\", mixed_list[2].lower() == \"true\")  # Convert string to boolean\n"
      ],
      "metadata": {
        "colab": {
          "base_uri": "https://localhost:8080/"
        },
        "id": "woE3V8v6NUFR",
        "outputId": "d4278d5f-c052-4e87-f620-cf26c5743e58"
      },
      "execution_count": 4,
      "outputs": [
        {
          "output_type": "stream",
          "name": "stdout",
          "text": [
            "Integer: 10\n",
            "Float: 20.5\n",
            "Boolean: True\n"
          ]
        }
      ]
    },
    {
      "cell_type": "code",
      "source": [
        "# 11  Write a program that checks if a number is positive, negative, or zero.\n",
        "num = float(input(\"Enter a number: \"))\n",
        "\n",
        "if num > 0:\n",
        "    print(\"Positive\")\n",
        "elif num < 0:\n",
        "    print(\"Negative\")\n",
        "else:\n",
        "    print(\"Zero\")\n",
        "\n"
      ],
      "metadata": {
        "colab": {
          "base_uri": "https://localhost:8080/"
        },
        "id": "lq2zvhBGNpqK",
        "outputId": "482a9caf-c216-4b5d-ab75-4622874d0782"
      },
      "execution_count": 5,
      "outputs": [
        {
          "output_type": "stream",
          "name": "stdout",
          "text": [
            "Enter a number: 10\n",
            "Positive\n"
          ]
        }
      ]
    },
    {
      "cell_type": "code",
      "source": [
        "# 12  Write a for loop to print numbers from 1 to 10.\n",
        "for i in range(1, 11):\n",
        "    print(i)\n"
      ],
      "metadata": {
        "colab": {
          "base_uri": "https://localhost:8080/"
        },
        "id": "UK0h-elIO496",
        "outputId": "653364dd-8da6-4db9-913b-821b581d5972"
      },
      "execution_count": 7,
      "outputs": [
        {
          "output_type": "stream",
          "name": "stdout",
          "text": [
            "1\n",
            "2\n",
            "3\n",
            "4\n",
            "5\n",
            "6\n",
            "7\n",
            "8\n",
            "9\n",
            "10\n"
          ]
        }
      ]
    },
    {
      "cell_type": "code",
      "source": [
        "# 13  Write a Python program to find the sum of all even numbers between 1 and 50.\n",
        "sum_even = 0\n",
        "for num in range(2, 51, 2):\n",
        "    sum_even += num\n",
        "\n",
        "print(\"Sum of even numbers between 1 and 50:\", sum_even)"
      ],
      "metadata": {
        "colab": {
          "base_uri": "https://localhost:8080/"
        },
        "id": "eO9ow7UOP6-O",
        "outputId": "8115494a-506f-4434-833e-24a6cc269a98"
      },
      "execution_count": 11,
      "outputs": [
        {
          "output_type": "stream",
          "name": "stdout",
          "text": [
            "Sum of even numbers between 1 and 50: 650\n"
          ]
        }
      ]
    },
    {
      "cell_type": "code",
      "source": [
        "# 14  Write a program to reverse a string using a while loop.\n",
        "s = \"Hello, World!\"\n",
        "reversed_str = \"\"\n",
        "i = len(s) - 1\n",
        "\n",
        "while i >= 0:\n",
        "    reversed_str += s[i]\n",
        "    i -= 1\n",
        "\n",
        "print(\"Reversed String:\", reversed_str)\n"
      ],
      "metadata": {
        "colab": {
          "base_uri": "https://localhost:8080/"
        },
        "id": "Ih9BgGEpRJ3e",
        "outputId": "94f2db78-82a6-4185-d652-f5de7d7ccbab"
      },
      "execution_count": 12,
      "outputs": [
        {
          "output_type": "stream",
          "name": "stdout",
          "text": [
            "Reversed String: !dlroW ,olleH\n"
          ]
        }
      ]
    },
    {
      "cell_type": "code",
      "source": [
        "# 15 Write a Python program to calculate the factorial of a number provided by the user using a while loop.\n",
        "num = int(input(\"Enter a number: \"))\n",
        "fact = 1\n",
        "\n",
        "while num > 1:\n",
        "    fact *= num\n",
        "    num -= 1\n",
        "\n",
        "print(\"Factorial:\", fact)\n"
      ],
      "metadata": {
        "colab": {
          "base_uri": "https://localhost:8080/"
        },
        "id": "x1UaZejcTHG1",
        "outputId": "f634c0be-31eb-48a0-daf0-55acb7e799ea"
      },
      "execution_count": 16,
      "outputs": [
        {
          "output_type": "stream",
          "name": "stdout",
          "text": [
            "Enter a number: 12\n",
            "Factorial: 479001600\n"
          ]
        }
      ]
    }
  ]
}